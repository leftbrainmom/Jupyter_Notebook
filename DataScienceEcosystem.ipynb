{
 "cells": [
  {
   "cell_type": "markdown",
   "id": "ad3b8378-837d-42db-a1ae-5b4e47f36599",
   "metadata": {},
   "source": [
    "# Data Science Tools and Ecosystem"
   ]
  },
  {
   "cell_type": "markdown",
   "id": "674e1ef8-95ad-4596-a21f-098982f15d1b",
   "metadata": {},
   "source": [
    "In this notebook, Data Science Tools and Ecoystem are summarized."
   ]
  },
  {
   "cell_type": "markdown",
   "id": "2c8733ec-5984-4974-b771-2c23c89409f7",
   "metadata": {},
   "source": [
    "**Objectives:**\n",
    "- List popular languages for Data Scientists\n",
    "- List common libraries used by Data Scientists\n",
    "- List Data Science tools\n",
    "- Examples of arithmetic expressions in Python"
   ]
  },
  {
   "cell_type": "markdown",
   "id": "8260ba90-cbfb-4653-8e01-a7f7c8d184f2",
   "metadata": {},
   "source": [
    "Some of the popular languages that Data Scientists use are:\n",
    "1. Python\n",
    "2. R\n",
    "3. SQL\n",
    "4. Java\n",
    "5. C++"
   ]
  },
  {
   "cell_type": "markdown",
   "id": "2658d0ec-03bc-4378-a018-e44c01b3e7b2",
   "metadata": {},
   "source": [
    "Some of the commonly used libraries used by Data Scientists include:\n",
    "1. NumPy\n",
    "2. TensorFlow\n",
    "3. SciPy"
   ]
  },
  {
   "cell_type": "markdown",
   "id": "9bbadcde-d138-4d07-87f9-e344a2a0b765",
   "metadata": {},
   "source": [
    "|Data Science Tools|\n",
    "|------------------|\n",
    "|Apache Spark|\n",
    "|TensorFlow|\n",
    "|RStudio|"
   ]
  },
  {
   "cell_type": "markdown",
   "id": "c350cc94-fbf8-4a23-bf19-863344cbb1be",
   "metadata": {},
   "source": [
    "### Below are a few examples of evaluating arithmetic expressions in python"
   ]
  },
  {
   "cell_type": "code",
   "execution_count": 10,
   "id": "549cf740-6481-4c21-a9e4-d293cad342e6",
   "metadata": {},
   "outputs": [],
   "source": [
    "# This is a simple arithmetic expression to multiply then add integers"
   ]
  },
  {
   "cell_type": "code",
   "execution_count": 7,
   "id": "0db3bbe9-38c3-4f19-b9de-f9de9784fe2a",
   "metadata": {},
   "outputs": [
    {
     "data": {
      "text/plain": [
       "17"
      ]
     },
     "execution_count": 7,
     "metadata": {},
     "output_type": "execute_result"
    }
   ],
   "source": [
    "(3*4)+5"
   ]
  },
  {
   "cell_type": "code",
   "execution_count": 12,
   "id": "773fa23c-a66e-4cbb-aac1-1a19b0103355",
   "metadata": {},
   "outputs": [],
   "source": [
    "#This will convert 200 minutes to hours by dividing by 60"
   ]
  },
  {
   "cell_type": "code",
   "execution_count": 14,
   "id": "3820c753-8263-4273-9b70-72a18710e92d",
   "metadata": {},
   "outputs": [
    {
     "data": {
      "text/plain": [
       "3.3333333333333335"
      ]
     },
     "execution_count": 14,
     "metadata": {},
     "output_type": "execute_result"
    }
   ],
   "source": [
    "200/60"
   ]
  },
  {
   "cell_type": "markdown",
   "id": "ba980630-425a-4708-91ad-58f6888fae05",
   "metadata": {},
   "source": [
    "## Author\n",
    "Amy E"
   ]
  },
  {
   "cell_type": "code",
   "execution_count": null,
   "id": "224cd165-b06d-49c9-98fe-b54fa95b6aa5",
   "metadata": {},
   "outputs": [],
   "source": []
  }
 ],
 "metadata": {
  "kernelspec": {
   "display_name": "Python [conda env:base] *",
   "language": "python",
   "name": "conda-base-py"
  },
  "language_info": {
   "codemirror_mode": {
    "name": "ipython",
    "version": 3
   },
   "file_extension": ".py",
   "mimetype": "text/x-python",
   "name": "python",
   "nbconvert_exporter": "python",
   "pygments_lexer": "ipython3",
   "version": "3.12.7"
  }
 },
 "nbformat": 4,
 "nbformat_minor": 5
}
